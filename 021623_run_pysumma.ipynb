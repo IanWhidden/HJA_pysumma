{
 "cells": [
  {
   "cell_type": "code",
   "execution_count": 1,
   "id": "3f1ec54e-4b7f-47e8-a10c-2e925f70b9fc",
   "metadata": {
    "tags": []
   },
   "outputs": [
    {
     "name": "stdout",
     "output_type": "stream",
     "text": [
      "%pylab is deprecated, use %matplotlib inline and import the required libraries.\n",
      "Populating the interactive namespace from numpy and matplotlib\n"
     ]
    }
   ],
   "source": [
    "%pylab inline\n",
    "%load_ext autoreload\n",
    "%autoreload 2\n",
    "%reload_ext autoreload\n",
    "\n",
    "import pysumma.plotting as psp\n",
    "import seaborn as sns\n",
    "import matplotlib.pyplot as plt\n",
    "\n",
    "import sys\n",
    "import xarray as xr\n",
    "import pandas as pd\n",
    "import pysumma as ps\n",
    "\n",
    "# function to convert summa\n",
    "def convert_time_to_summa_string(t):\n",
    "    return (\n",
    "        f'{t.dt.year.values[()]:04}'\n",
    "        f'-{t.dt.month.values[()]:02}'\n",
    "        f'-{t.dt.day.values[()]:02}'\n",
    "        f' {t.dt.hour.values[()]:02}'\n",
    "        f':{t.dt.minute.values[()]:02}'\n",
    "    )\n",
    "# set up attributes for forcing data\n",
    "attrs = {\n",
    "   'airpres':  {'units': 'Pa', 'long_name': 'Air pressure'},\n",
    "   'airtemp':  {'units': 'K', 'long_name': 'Air temperature'},\n",
    "   'spechum':  {'units': 'g g-1', 'long_name': 'Specific humidity'},\n",
    "   'windspd':  {'units': 'Wind speed', 'long_name': 'm s-1'},\n",
    "   'SWRadAtm': {'units': 'W m-2', 'long_name': 'Downward shortwave radiation'},\n",
    "   'LWRadAtm': {'units': 'W m-2', 'long_name': 'Downward longwave radiation'},\n",
    "   'pptrate':  {'units': 'kg m-2 s-1', 'long_name': 'Precipitation rate'}\n",
    "}\n",
    "name_lookup = {\n",
    "    'airpres':  'pressure_Pa',\n",
    "    'airtemp':  'temp_K',\n",
    "    'spechum':  'spechum',\n",
    "    'windspd':  'Wind_ms',\n",
    "    'SWRadAtm': 'SW_wm2',\n",
    "    'LWRadAtm': 'LW_wm2',\n",
    "    'pptrate':  'precip_mm',\n",
    "}\n",
    "\n",
    "\n",
    "# Check to see if met data is in PST or UTC\n",
    "# FORCING AND WRITE TO NET CDF\n",
    "df = pd.read_csv('/Users/ianwhidden/pysumma/pysumma/COPY_workspace_HJA_pysumma/hjandrews_summa_setup/met_uplo_020523.csv')\n",
    "# create date time index, which somehow tells summa that this column in the df is the time object/index to use?\n",
    "df.index = pd.DatetimeIndex(df['datetime'], name='time')\n",
    "# Ask Andrew about code in this section. How does the df turn into a netCDF here?\n",
    "forcing_filename = 'uplo_station_forcing.nc'\n",
    "# Adding 1 hour to account for SUMMA being period-ending\n",
    "time_idx = df.index + pd.Timedelta('1H')\n",
    "shape = (len(time_idx), 1, )\n",
    "dims = ('time', 'hru', )\n",
    "coords = {'time': time_idx}\n",
    "\n",
    "met_data = xr.Dataset(coords=coords)\n",
    "met_data.time.encoding['calendar'] = 'standard'\n",
    "met_data.time.encoding['units'] = 'hours since 2013-11-01'\n",
    "for varname, varattrs in attrs.items():\n",
    "    df_name = name_lookup[varname]\n",
    "    met_data[varname] = xr.DataArray(\n",
    "        data=df[df_name].values.reshape(-1, 1),\n",
    "        coords=coords, dims=dims, name=varname, attrs=varattrs\n",
    "    )\n",
    "\n",
    "met_data['pptrate'] /= 3600.0  # Convert from mm/hr to mm/s AKA kg m-2 s-1\n",
    "# 3600 is timestep xr.variable so it doesnt end up as cords etc\n",
    "met_data['data_step'] = xr.Variable([], 3600.0)\n",
    "met_data.to_netcdf(f'./forcings/{forcing_filename}')\n",
    "\n",
    "with open('./forcings/forcing_file_list.txt', 'w') as f:\n",
    "    f.write(f\"'{forcing_filename}'\\n\")"
   ]
  },
  {
   "cell_type": "code",
   "execution_count": 2,
   "id": "1617f357-5381-402a-a25b-54489d0ff950",
   "metadata": {},
   "outputs": [],
   "source": [
    "# Local attributes\n",
    "\n",
    "lat = 44.2072180256268\n",
    "lon = -122.119450090239\n",
    "elev = 1300\n",
    "# open local_attributes.nc\n",
    "local_attrs = xr.open_dataset('/Users/ianwhidden/pysumma/pysumma/COPY_workspace_HJA_pysumma/hjandrews_summa_setup/params/local_attributes.nc').load()\n",
    "\n",
    "# Update local_attributes with desired values\n",
    "local_attrs['longitude'].values[:] = lon\n",
    "local_attrs['latitude'].values[:] = lat\n",
    "local_attrs['elevation'].values[:] = elev\n",
    "local_attrs['tan_slope'] = 0.0\n",
    "local_attrs['mHeight'] = 3.0\n",
    "# 1 is evergreen needleleaf forest in the MODIFIED_IGBP_MODIS_NOAH option\n",
    "# for the `vegeParTbl` decision. This can be found in the `VEGPARM.TBL` file\n",
    "# 7 is Open Shrublands\n",
    "# 16 is Barren or Sparsely Vegetated'\n",
    "local_attrs['vegTypeIndex'] = 16\n",
    "#.values[:]\n",
    "local_attrs.to_netcdf('/Users/ianwhidden/pysumma/pysumma/COPY_workspace_HJA_pysumma/hjandrews_summa_setup/local_attributes.nc')\n",
    "\n",
    "#local_attrs"
   ]
  },
  {
   "cell_type": "code",
   "execution_count": 3,
   "id": "08c2cfd4-cb92-48cd-856b-a4fb2c105a45",
   "metadata": {},
   "outputs": [],
   "source": [
    "!./install_local_setup.sh\n",
    "\n",
    "summa_exe = 'summa.exe'\n",
    "file_manager = '/Users/ianwhidden/pysumma/pysumma/COPY_workspace_HJA_pysumma/hjandrews_summa_setup/file_manager.txt'\n",
    "# INITIATE (instantiate?) simiulation object\n",
    "s = ps.Simulation(summa_exe, file_manager)\n",
    "\n",
    "# modify output, decisions, etc. here, below the instantiation of the simulation object\n",
    "\n",
    "# Update file manager with start and end time\n",
    "s.manager['simStartTime'] = '2013-11-01 00:00'\n",
    "s.manager['simEndTime'] = '2014-06-01 00:00'\n",
    "\n",
    "s.manager['settingsPath'] = '/Users/ianwhidden/pysumma/pysumma/COPY_workspace_HJA_pysumma/hjandrews_summa_setup/settings/'\n",
    "s.manager['forcingPath'] = '/Users/ianwhidden/pysumma/pysumma/COPY_workspace_HJA_pysumma/hjandrews_summa_setup/forcings/'\n",
    "s.manager['outputPath'] = '/Users/ianwhidden/pysumma/pysumma/COPY_workspace_HJA_pysumma/hjandrews_summa_setup/output/'\n",
    "s.manager['trialParamFile'] = '/Users/ianwhidden/pysumma/pysumma/COPY_workspace_HJA_pysumma/hjandrews_summa_setup/params/parameter_trial.nc/'\n",
    "# When I edit some of the below, I receive error.\n",
    "#s.manager['globalHruParamFile'] = '/Users/ianwhidden/pysumma/pysumma/COPY_workspace_HJA_pysumma/hjandrews_summa_setup/params/local_param_info.txt/'\n",
    "#s.manager['globalGruParamFile'] = '/Users/ianwhidden/pysumma/pysumma/COPY_workspace_HJA_pysumma/hjandrews_summa_setup/params/basin_param_info.txt/'\n",
    "#s.manager['attributeFile'] = '/Users/ianwhidden/pysumma/pysumma/COPY_workspace_HJA_pysumma/hjandrews_summa_setup/params/local_attributes.nc/'\n",
    "#s.manager['trialParamFile'] = '/Users/ianwhidden/pysumma/pysumma/COPY_workspace_HJA_pysumma/hjandrews_summa_setup/params/parameter_trial.nc/'\n",
    "\n",
    "#s.manager['forcingListFile'] = '/Users/ianwhidden/pysumma/pysumma/COPY_workspace_HJA_pysumma/hjandrews_summa_setup/forcings/forcing_file_list.txt/'\n",
    "#s.manager['initConditionFile'] = '/Users/ianwhidden/pysumma/pysumma/COPY_workspace_HJA_pysumma/hjandrews_summa_setup/params/initial_conditions.nc/'"
   ]
  },
  {
   "cell_type": "code",
   "execution_count": 4,
   "id": "025e068f-bb46-4c25-9485-0e321b440128",
   "metadata": {},
   "outputs": [],
   "source": [
    "# Open initial conditions file indendently of summa\n",
    "#ic = xr.open_dataset('../summa_setup_template/params/initial_conditions.nc').load()\n",
    "#ic\n",
    "# ANDREW recomonds to not change initial conditions bc it is a pain. The below code doesnt work\n",
    "#s.initial_conditions['scalarCanopyTemp']=279.15\n",
    "#s.initial_conditions\n",
    "#s.manager"
   ]
  },
  {
   "cell_type": "code",
   "execution_count": 5,
   "id": "ad31797e-9f93-4502-a548-ae2d8da91865",
   "metadata": {
    "tags": []
   },
   "outputs": [
    {
     "name": "stdout",
     "output_type": "stream",
     "text": [
      "snowIncept    stickySnow           ! choice of parameterization for snow interception\n"
     ]
    }
   ],
   "source": [
    "\"\"\"\n",
    "!./install_local_setup.sh\n",
    "\n",
    "summa_exe = 'summa.exe'\n",
    "file_manager = './file_manager.txt'\n",
    "s = ps.Simulation(summa_exe, file_manager)\n",
    "\"\"\"\n",
    "\n",
    "# modify output, decisions, etc. here, below the instantiation of the simulation object\n",
    "\n",
    "# isel grabs first and last time stamp.\n",
    "t0 = met_data['time'].isel(time=0)\n",
    "t1 = met_data['time'].isel(time=-1)\n",
    "# \n",
    "s.manager['simStartTime'] = convert_time_to_summa_string(t0)\n",
    "s.manager['simEndTime'] = convert_time_to_summa_string(t1)\n",
    "\n",
    "# OUTPUT\n",
    "# Add a variable written to the output control file\n",
    "s.output_control['scalarSnowDepth'] = [1, 0, 1, 0, 0, 0, 0, 0]\n",
    "s.output_control['scalarSnowAlbedo'] = [1, 0, 1, 0, 0, 0, 0, 0]\n",
    "\n",
    "# DECISIONS - Parameter values are going to be much more important than the decisions!\n",
    "# Andreadis et al. 2009 Includes a rapid interception increase between -3 and 0 C\n",
    "# from observations of increased cohesion in warm regions.\n",
    "s.decisions['snowIncept']= 'stickySnow'\n",
    "print(s.decisions['snowIncept'])\n",
    "\n",
    "#s.decisions['canopySrad']= \n",
    "#s.decisions['snowLayers']= \n",
    "#s.decisions['thCondSnow']= \n",
    "\n",
    "# set the canopy interception option to sparse canopy\n",
    "s.decisions.set_option('cIntercept', 'sparseCanopy')\n",
    "\n",
    "\n",
    "# NEW SNOW DENS - decision doesn't work for now...\n",
    "#s.decisions.set_option('snowDenNew', 'anderson')\n",
    "#print(s.decisions['snowDenNew'])\n",
    "#s.decisions"
   ]
  },
  {
   "cell_type": "markdown",
   "id": "714f034b-4ea2-4f50-8bbf-4e3c341d2fb1",
   "metadata": {},
   "source": [
    "## Parameters"
   ]
  },
  {
   "cell_type": "code",
   "execution_count": 6,
   "id": "bb195244-dc8b-40c5-95e1-e3fbef642f00",
   "metadata": {},
   "outputs": [
    {
     "name": "stdout",
     "output_type": "stream",
     "text": [
      "albedoSootLoad            |       1.0d-5 |       1.0d-5 |       1.0d-5\n",
      "albedoMax                 |       0.8400 |       0.7000 |       0.9500\n",
      "albedoDecayRate           |       1.0d+6 |       1.0d+5 |       5.0d+6\n",
      "albedoRefresh             |       1.0000 |       1.0000 |      10.0000\n",
      "z0Canopy                  |       0.1000 |       0.0010 |      10.0000\n",
      "zpdFraction               |       0.6500 |       0.5000 |       0.8500\n",
      "heightCanopyTop           |       0.0000 |       0.0000 |       0.0000\n",
      "heightCanopyBottom        |       0.0000 |       0.0000 |       0.0000\n",
      "Frad_direct               |       0.9000 |       0.0000 |       1.0000\n",
      "Frad_vis                  |       0.9000 |       0.0000 |       1.0000\n",
      "tempCritRain              |     273.1600 |     272.1600 |     274.1600\n",
      "frozenPrecipMultip        |       1.0000 |       0.5000 |       1.5000\n",
      "refInterceptCapSnow       |       6.6000 |       1.0000 |      10.0000\n"
     ]
    }
   ],
   "source": [
    "# (5) Model Parameters -  LOCAL PARAMETERS (s.global_hru_params) - set parameters and view those changes AKA local_params.txt\n",
    "\n",
    "# SNOW\n",
    "# Max albedo of 0.85 comes from Andreadis et al., 2009\n",
    "#s.global_hru_params['albedoMax'] = 0.99\n",
    "s.global_hru_params['albedoSootLoad'] = 0.00001\n",
    "print(s.global_hru_params['albedoSootLoad'])\n",
    "\n",
    "\n",
    "print(s.global_hru_params['albedoMax'])\n",
    "print(s.global_hru_params['albedoDecayRate'])\n",
    "print(s.global_hru_params['albedoRefresh'])\n",
    "\n",
    "\n",
    "# CANOPY\n",
    "# roughness length of canopy (m)\n",
    "# Dont worry too much about this to start\n",
    "#s.global_hru_params['z0Canopy'] = \n",
    "\n",
    "# zero plane displacement / canopy height (-)\n",
    "# related to turbulent fluxes and wind speed scaling. Dont worry about this.\n",
    "# s.global_hru_params['zpdFraction'] = \n",
    "\n",
    "# height of top of the vegetation canopy above ground \n",
    "s.global_hru_params['heightCanopyTop'] = 0\n",
    "# height of bottom of the vegetation canopy above ground surface (m)\n",
    "s.global_hru_params['heightCanopyBottom'] = 0\n",
    "\n",
    "print(s.global_hru_params['z0Canopy'])\n",
    "print(s.global_hru_params['zpdFraction'])\n",
    "print(s.global_hru_params['heightCanopyTop'])\n",
    "print(s.global_hru_params['heightCanopyBottom'])\n",
    "\n",
    "# RADIATION\n",
    "#s.global_hru_params['Frad_direct'] = 0.2\n",
    "print(s.global_hru_params['Frad_direct'])\n",
    "print(s.global_hru_params['Frad_vis'])\n",
    "\n",
    "# Precipitation partitioning\n",
    "# critical temperature where precipitation is rain (K)\n",
    "# 39 F = 277.039 , 36 F = 275.372 k , 32 F = 273.15 K\n",
    "#s.global_hru_params['tempCritRain']= 277.039\n",
    "print(s.global_hru_params['tempCritRain'])\n",
    "\n",
    "# frozen precipitation multiplier (-)\n",
    "print(s.global_hru_params['frozenPrecipMultip'])\n",
    "\n",
    "print(s.global_hru_params['refInterceptCapSnow'])\n"
   ]
  },
  {
   "cell_type": "code",
   "execution_count": 7,
   "id": "a2f7ed3b-c79b-4557-9a29-aaec889ce84b",
   "metadata": {},
   "outputs": [
    {
     "data": {
      "text/plain": [
       "'Success'"
      ]
     },
     "execution_count": 7,
     "metadata": {},
     "output_type": "execute_result"
    }
   ],
   "source": [
    "s.run('local')\n",
    "s.status\n",
    "#print(s.stderr)\n",
    "\n",
    "# The output of summa is an xarray dataset"
   ]
  },
  {
   "cell_type": "code",
   "execution_count": null,
   "id": "5de07f9e-d144-4039-9bc2-c59aa7f3a504",
   "metadata": {},
   "outputs": [],
   "source": [
    "#print(s.stderr)\n",
    "s.reset()\n",
    "%reset"
   ]
  },
  {
   "cell_type": "code",
   "execution_count": null,
   "id": "0bb5bf27-a81e-4841-8b99-6388c333ce8d",
   "metadata": {},
   "outputs": [],
   "source": [
    "# Write something from output to a csv\n",
    "\n",
    "dssd = s.output['scalarSnowDepth']\n",
    "df = dssd.to_dataframe()\n",
    "df = df.to_csv('/Users/ianwhidden/Desktop/thesis_data/summa_output/s2_sd.csv')\n",
    "\n",
    "dsswe = s.output['scalarSWE']\n",
    "df = dsswe.to_dataframe()\n",
    "df = df.to_csv('/Users/ianwhidden/Desktop/thesis_data/summa_output/s2_swe.csv')\n",
    "\n"
   ]
  },
  {
   "cell_type": "markdown",
   "id": "c734ac13-8be0-40ac-ba1d-8c60ef787b45",
   "metadata": {},
   "source": [
    "<br>\n",
    "\n",
    "## Plotting\n",
    "\n",
    "Now that we've got some output we can plot some results. Because the output is an xarray `DataSet` we can use the convenient plotting capabilities provided by xarray."
   ]
  },
  {
   "cell_type": "code",
   "execution_count": null,
   "id": "96035588-d3bb-4a24-ac5c-5f2583d98eea",
   "metadata": {},
   "outputs": [],
   "source": [
    "# PLOTS , current is snow albedo\n",
    "\n",
    "# mass of total water on the vegetation canopy (kg m-2)\n",
    "#s.output['scalarCanopyWat'].plot(label='SUMMA')\n",
    "\n",
    "# temperature of each layer (K)\n",
    "#s.output['mLayerTemp'].plot(label='SUMMA')\n",
    "\n",
    "#albedo of the ground surface (-)\n",
    "#s.output['scalarGroundAlbedo'].plot(label='SUMMA')\n",
    "\n",
    "\n",
    "# Albedo commonly refers to the \"whiteness\" of a surface, with 0 meaning black and 1 meaning white.\n",
    "#A value of 0 means the surface is a \"perfect absorber\" that absorbs all incoming energy.\n",
    "\n",
    "#snow albedo for the entire spectral band (-)\n",
    "#s.output['scalarSnowAlbedo'].plot(label='SUMMA')\n",
    "\n",
    "albedo = s.output['scalarSnowAlbedo']\n",
    "albedo.plot.line(x='time', color=\"purple\")\n",
    "# Change the max and min values of plot to show albedo variations\n",
    "plt.ylim([0, 1])\n",
    "# Set axis sizes\n",
    "matplotlib.rc('xtick', labelsize=10) \n",
    "matplotlib.rc('ytick', labelsize=10)\n",
    "\n",
    "#matplotlib.title('Snow Albedo')\n",
    "\n",
    "#saturation vapor pressure at the temperature of vegetation canopy (Pa)\n",
    "#s.output['scalarSatVP_CanopyTemp'].plot(label='SUMMA')\n",
    "\n",
    "#saturation vapor pressure at the temperature of the ground (Pa)\n",
    "#s.output['scalarSatVP_GroundTemp'].plot(label='SUMMA')\n",
    "\n",
    "#net radiation (W m-2)\n",
    "#Graph shows constant net radiation of zero\n",
    "#s.output['scalarNetRadiation'].plot(label='SUMMA')\n",
    "\n",
    "\n",
    "#latent heat from the ground (below canopy or non-vegetated) (W m-2)\n",
    "#s.output['scalarLatHeatGround'].plot(label='SUMMA')\n",
    "\n",
    "\n",
    "#s.output['scalarLAI'].plot(label='SUMMA')\n",
    "\n"
   ]
  },
  {
   "cell_type": "code",
   "execution_count": null,
   "id": "052510e4-d7a6-4f02-bbf8-21c1ba5eab79",
   "metadata": {},
   "outputs": [],
   "source": [
    "fig, axs = plt.subplots(ncols=2)"
   ]
  },
  {
   "cell_type": "code",
   "execution_count": null,
   "id": "a006d941-93cd-4ce6-9c8a-99734735875e",
   "metadata": {},
   "outputs": [],
   "source": [
    "depth = s.output['scalarSnowDepth']\n",
    "depth.plot.line(x='time',label='Snow depth')\n",
    "#plt.suptitle('Snow depth')\n",
    "#depth.title('Depth')\n",
    "#plt.plot(s.output['scalarSnowDepth'], x='time')\n",
    "#from matplotlib import pyplot as plt    \n",
    "\n",
    "#fig = plt.figure()\n",
    "#plt.plot(s.output['scalarSnowDepth'])\n",
    "#plt.suptitle('Snowpack depth', fontsize=20)\n",
    "\n",
    "#plt.xlabel('Time', fontsize=18)\n",
    "#plt.ylabel('Snowpack depth m', fontsize=16)\n",
    "#fig.savefig('test.jpg')\n"
   ]
  },
  {
   "cell_type": "code",
   "execution_count": null,
   "id": "2430a5ba-cf00-459d-a6ca-f0cd70a8f555",
   "metadata": {},
   "outputs": [],
   "source": [
    "# PLOT TEMP IN FARENHEIT - prognostic (predicted by model) - scalarSurfaceTemp is the temp of the ground surface\n",
    "temp = s.output['scalarSurfaceTemp']\n",
    "\n",
    "# Convert\n",
    "temp_f = 1.8*(temp-273) + 32\n",
    "print(temp_f)\n",
    "#s.output['scalarSurfaceTemp'].plot(label='SUMMA');\n",
    "temp_f.plot(label='temp_F')"
   ]
  },
  {
   "cell_type": "code",
   "execution_count": null,
   "id": "77fda668-b084-435b-beb1-b436fe18f680",
   "metadata": {},
   "outputs": [],
   "source": [
    "s.output['scalarSurfaceTemp'].plot(label='SUMMA');"
   ]
  },
  {
   "cell_type": "code",
   "execution_count": null,
   "id": "a9fbee29-1379-4ce4-8d27-a0e01437acaf",
   "metadata": {},
   "outputs": [],
   "source": [
    "# plot for SWE\n",
    "\n",
    "s.output['scalarSWE'].plot(label='SUMMA');\n",
    "#s.output['scalarSnowDepth'].plot(label='SUMMA');\n",
    "plt.legend();"
   ]
  },
  {
   "cell_type": "code",
   "execution_count": null,
   "id": "e1f2f57b-3b52-448e-949d-15347e47c322",
   "metadata": {},
   "outputs": [],
   "source": [
    "# plot for something else\n",
    "\"\"\"\n",
    "s.output['scalarSurfaceTemp'].plot(label='SUMMA');\n",
    "#s.output['scalarSnowDepth'].plot(label='SUMMA');\n",
    "plt.legend();\n",
    "\"\"\"\n",
    "#s.output_control\n",
    "#s.output['scalarSnowAlbedo'].plot(color='red', linewidth=2);\n",
    "s.output"
   ]
  },
  {
   "cell_type": "code",
   "execution_count": null,
   "id": "9a4b79ed-debc-409f-bc5e-b736f3993f3e",
   "metadata": {},
   "outputs": [],
   "source": [
    "# s.output[whichever cell/data]\n",
    "\n",
    "# Total snow depth\n",
    "depth = s.output.isel(hru=0)['iLayerHeight']\n",
    "temp = s.output.isel(hru=0)['mLayerTemp']\n",
    "frac_wat = s.output.isel(hru=0)['mLayerVolFracWat']\n",
    "\n",
    "psp.layers(temp, depth, colormap='viridis', plot_soil=False, plot_snow=True);\n",
    "s.output['scalarSnowDepth'].plot(color='red', linewidth=2);\n",
    "\n"
   ]
  },
  {
   "cell_type": "code",
   "execution_count": null,
   "id": "483bbbe3-a96b-4ae8-b6c4-70dfa877523b",
   "metadata": {},
   "outputs": [],
   "source": [
    "# Volumetric water content\n",
    "\n",
    "psp.layers(frac_wat, depth, colormap='Blues', plot_soil=True, plot_snow=True);\n",
    "#s.output['scalarSnowDepth'].plot(color='red', linewidth=2);"
   ]
  },
  {
   "cell_type": "markdown",
   "id": "b50f313e-ec23-4e23-a0fe-851c1642e89a",
   "metadata": {},
   "source": [
    "# Change what is written in s.output_control (txt)"
   ]
  },
  {
   "cell_type": "code",
   "execution_count": null,
   "id": "11555876-f2d1-4cec-a42e-9902847ffbe6",
   "metadata": {},
   "outputs": [],
   "source": [
    "# Add a variable written to output\n",
    "\n",
    "\"\"\"s.output_control['scalarSnowDepth'] = {\n",
    "    'period': 1, 'instant': 1, 'sum': 0, \n",
    "    'mean': 0, 'variance': 0, 'min': 0, 'max': 0}\n",
    "    \"\"\"\n",
    "#s.output_control['scalarSnowDepth']\n"
   ]
  },
  {
   "cell_type": "markdown",
   "id": "cc003844-70fa-46b6-aae2-c2784fb876b2",
   "metadata": {},
   "source": [
    "## s.decisions (txt)"
   ]
  },
  {
   "cell_type": "code",
   "execution_count": null,
   "id": "357d811f-11e1-4239-8afe-54a522b054b5",
   "metadata": {},
   "outputs": [],
   "source": [
    "#print(s.decisions)"
   ]
  },
  {
   "cell_type": "code",
   "execution_count": null,
   "id": "4de9f1ba-0df3-4981-b1b3-bf76a3ca660a",
   "metadata": {},
   "outputs": [],
   "source": [
    "# Get just the `snowIncept` option\n",
    "#print(s.decisions['snowIncept'])\n",
    "#print(s.decisions['windPrfile'])\n",
    "\n",
    "print(s.decisions['windPrfile'].available_options)\n",
    "\n",
    "# Change the value of a decision example\n",
    "#s.decisions['snowIncept'] = 'stickySnow'\n",
    "#print(s.decisions['snowIncept'])"
   ]
  },
  {
   "cell_type": "code",
   "execution_count": null,
   "id": "0e76495b-8f7e-4ae5-a214-223f4fc038e8",
   "metadata": {},
   "outputs": [],
   "source": []
  },
  {
   "cell_type": "code",
   "execution_count": null,
   "id": "4f63882d-e1ff-45f5-b7a8-4e1badd6af70",
   "metadata": {},
   "outputs": [],
   "source": []
  },
  {
   "cell_type": "code",
   "execution_count": null,
   "id": "3ec3495d-1634-4cbe-9c97-b3f313dfdbc8",
   "metadata": {},
   "outputs": [],
   "source": []
  },
  {
   "cell_type": "code",
   "execution_count": null,
   "id": "9d3e3032-fb19-49ec-b16d-b88a2cba83a3",
   "metadata": {},
   "outputs": [],
   "source": []
  },
  {
   "cell_type": "code",
   "execution_count": null,
   "id": "6b5f5477-3fbc-479a-a106-7b4ca3fc2148",
   "metadata": {},
   "outputs": [],
   "source": []
  },
  {
   "cell_type": "code",
   "execution_count": null,
   "id": "81fe3442-1cd6-40e8-b6b1-b8edd747cf26",
   "metadata": {},
   "outputs": [],
   "source": []
  },
  {
   "cell_type": "code",
   "execution_count": null,
   "id": "fff32402-7ccc-449b-ba78-e2c94ea834a4",
   "metadata": {},
   "outputs": [],
   "source": []
  },
  {
   "cell_type": "code",
   "execution_count": null,
   "id": "9b85e186-1e11-4769-8ff7-09e9a89f5d3c",
   "metadata": {},
   "outputs": [],
   "source": []
  },
  {
   "cell_type": "code",
   "execution_count": null,
   "id": "6ad8bf51-7d32-4a80-9aac-06cab5871603",
   "metadata": {},
   "outputs": [],
   "source": []
  },
  {
   "cell_type": "code",
   "execution_count": null,
   "id": "cce9447a-9b3a-464d-a99e-e40b21412ec1",
   "metadata": {},
   "outputs": [],
   "source": []
  },
  {
   "cell_type": "code",
   "execution_count": null,
   "id": "966c5eac-db47-4628-b9c0-f12a7f60ab71",
   "metadata": {},
   "outputs": [],
   "source": []
  },
  {
   "cell_type": "code",
   "execution_count": null,
   "id": "cec32c3b-cf5e-4b80-b425-855ec617d590",
   "metadata": {},
   "outputs": [],
   "source": []
  },
  {
   "cell_type": "code",
   "execution_count": null,
   "id": "061e0446-67e6-4aba-bab2-22d3f8506943",
   "metadata": {},
   "outputs": [],
   "source": []
  },
  {
   "cell_type": "code",
   "execution_count": null,
   "id": "628143b3-206a-4666-8bff-b00eb258000a",
   "metadata": {},
   "outputs": [],
   "source": []
  },
  {
   "cell_type": "code",
   "execution_count": null,
   "id": "c789c4f4-2b54-416f-95ab-7e1940e1cba3",
   "metadata": {},
   "outputs": [],
   "source": []
  },
  {
   "cell_type": "code",
   "execution_count": null,
   "id": "0d192b28-1054-4d42-add6-1c9e7137aac3",
   "metadata": {},
   "outputs": [],
   "source": []
  },
  {
   "cell_type": "code",
   "execution_count": null,
   "id": "4ec2dc02-765e-4775-8918-d665dbbe2734",
   "metadata": {},
   "outputs": [],
   "source": []
  },
  {
   "cell_type": "code",
   "execution_count": null,
   "id": "dbfa4050-637f-441b-898e-540fc4e6de3b",
   "metadata": {},
   "outputs": [],
   "source": []
  },
  {
   "cell_type": "code",
   "execution_count": null,
   "id": "f9e75f31-403a-4f11-b9a7-23294034934f",
   "metadata": {},
   "outputs": [],
   "source": []
  },
  {
   "cell_type": "code",
   "execution_count": null,
   "id": "5b137127-6158-422f-bb2f-a73542637e18",
   "metadata": {},
   "outputs": [],
   "source": []
  },
  {
   "cell_type": "code",
   "execution_count": null,
   "id": "d474e51e-65ba-42b2-b6b8-b561902afd6b",
   "metadata": {},
   "outputs": [],
   "source": []
  },
  {
   "cell_type": "code",
   "execution_count": null,
   "id": "c114b258-1b8e-44ab-accd-91a05a9d81d3",
   "metadata": {},
   "outputs": [],
   "source": []
  },
  {
   "cell_type": "code",
   "execution_count": null,
   "id": "67a7f755-aeb1-4d2a-89ca-0c1605e809e8",
   "metadata": {},
   "outputs": [],
   "source": []
  },
  {
   "cell_type": "code",
   "execution_count": null,
   "id": "49e6cb7d-c57c-4a06-9616-cf74b3188e68",
   "metadata": {},
   "outputs": [],
   "source": []
  },
  {
   "cell_type": "code",
   "execution_count": null,
   "id": "ed88cab2-385f-45c7-94d8-cc010daad849",
   "metadata": {},
   "outputs": [],
   "source": []
  },
  {
   "cell_type": "code",
   "execution_count": null,
   "id": "59e0c933-f378-484a-ad22-3c153686b818",
   "metadata": {},
   "outputs": [],
   "source": []
  },
  {
   "cell_type": "code",
   "execution_count": null,
   "id": "1a371de9-4678-4c0b-b568-b82f92c7ee4d",
   "metadata": {},
   "outputs": [],
   "source": []
  },
  {
   "cell_type": "code",
   "execution_count": null,
   "id": "b1f9f31d-529c-426e-8dd9-27caee832da8",
   "metadata": {},
   "outputs": [],
   "source": []
  },
  {
   "cell_type": "code",
   "execution_count": null,
   "id": "4a0ac074-4148-421a-a5ed-a71c181ff909",
   "metadata": {},
   "outputs": [],
   "source": []
  },
  {
   "cell_type": "code",
   "execution_count": null,
   "id": "ad83cc94-99c1-48ae-8345-9ddf2262cbaa",
   "metadata": {},
   "outputs": [],
   "source": []
  },
  {
   "cell_type": "code",
   "execution_count": null,
   "id": "1312e606-fd74-44cf-8610-45b13b2cb567",
   "metadata": {},
   "outputs": [],
   "source": []
  },
  {
   "cell_type": "code",
   "execution_count": null,
   "id": "db9be678-402c-47ca-852d-cdccb545f62b",
   "metadata": {},
   "outputs": [],
   "source": []
  },
  {
   "cell_type": "code",
   "execution_count": null,
   "id": "095ca6fe-c7d0-4e82-a284-0083fb782e9a",
   "metadata": {},
   "outputs": [],
   "source": []
  },
  {
   "cell_type": "code",
   "execution_count": null,
   "id": "a10becb7-e26b-4d22-88cb-44120c606d86",
   "metadata": {},
   "outputs": [],
   "source": []
  },
  {
   "cell_type": "code",
   "execution_count": null,
   "id": "2cf04ead-6802-4b1b-9c6d-4165cf0a5702",
   "metadata": {},
   "outputs": [],
   "source": []
  },
  {
   "cell_type": "code",
   "execution_count": null,
   "id": "8655c858-8fe7-4fea-9d95-b0be61af9af6",
   "metadata": {},
   "outputs": [],
   "source": []
  },
  {
   "cell_type": "code",
   "execution_count": null,
   "id": "8153fd82-276d-4bb6-b1b2-dc380d9f69ab",
   "metadata": {},
   "outputs": [],
   "source": []
  },
  {
   "cell_type": "code",
   "execution_count": null,
   "id": "5c0ebeb1-23cc-4231-bb13-4dcb688f306b",
   "metadata": {},
   "outputs": [],
   "source": []
  },
  {
   "cell_type": "code",
   "execution_count": null,
   "id": "9f153620-ffa2-4bcd-a65f-575754b3147b",
   "metadata": {},
   "outputs": [],
   "source": []
  },
  {
   "cell_type": "code",
   "execution_count": null,
   "id": "3a8fd059-5f15-4165-88a8-a22691e6a6e9",
   "metadata": {},
   "outputs": [],
   "source": []
  },
  {
   "cell_type": "code",
   "execution_count": null,
   "id": "d0709ea1-ca48-405b-9a02-7e1da4601906",
   "metadata": {},
   "outputs": [],
   "source": []
  },
  {
   "cell_type": "code",
   "execution_count": null,
   "id": "1dc7b5c3-7570-450f-ae0c-a4c52cfbd913",
   "metadata": {},
   "outputs": [],
   "source": []
  },
  {
   "cell_type": "code",
   "execution_count": null,
   "id": "93fc9f61-85af-4592-b4bc-e4fdc4258a0c",
   "metadata": {},
   "outputs": [],
   "source": []
  },
  {
   "cell_type": "code",
   "execution_count": null,
   "id": "38830262-963e-495b-b4fa-8304e6957d38",
   "metadata": {},
   "outputs": [],
   "source": []
  },
  {
   "cell_type": "code",
   "execution_count": null,
   "id": "070ca840-43c6-46eb-92d8-7d3e26dc7d56",
   "metadata": {},
   "outputs": [],
   "source": []
  },
  {
   "cell_type": "code",
   "execution_count": null,
   "id": "50fb0988-79f5-46f4-80c2-8381a1c991c7",
   "metadata": {},
   "outputs": [],
   "source": []
  },
  {
   "cell_type": "code",
   "execution_count": null,
   "id": "515841b2-b41f-4c48-a933-557036803939",
   "metadata": {},
   "outputs": [],
   "source": []
  }
 ],
 "metadata": {
  "kernelspec": {
   "display_name": "new-env",
   "language": "python",
   "name": "new-env"
  },
  "language_info": {
   "codemirror_mode": {
    "name": "ipython",
    "version": 3
   },
   "file_extension": ".py",
   "mimetype": "text/x-python",
   "name": "python",
   "nbconvert_exporter": "python",
   "pygments_lexer": "ipython3",
   "version": "3.9.13"
  }
 },
 "nbformat": 4,
 "nbformat_minor": 5
}
