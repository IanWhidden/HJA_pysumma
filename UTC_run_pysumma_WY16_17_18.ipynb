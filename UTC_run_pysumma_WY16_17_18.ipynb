{
 "cells": [
  {
   "cell_type": "markdown",
   "id": "4077ceec-50ab-4928-821b-e9ea3c7db40c",
   "metadata": {},
   "source": [
    "## This notebook runs pysumma over WY 2019,2021, and 2022 with forcing data prepared from NLDAS on April 5, 2023"
   ]
  },
  {
   "cell_type": "code",
   "execution_count": 107,
   "id": "3f1ec54e-4b7f-47e8-a10c-2e925f70b9fc",
   "metadata": {},
   "outputs": [
    {
     "name": "stdout",
     "output_type": "stream",
     "text": [
      "%pylab is deprecated, use %matplotlib inline and import the required libraries.\n",
      "Populating the interactive namespace from numpy and matplotlib\n",
      "The autoreload extension is already loaded. To reload it, use:\n",
      "  %reload_ext autoreload\n"
     ]
    }
   ],
   "source": [
    "# import xarray as xr\n",
    "# import pandas as pd\n",
    "# import pysumma as ps\n",
    "\n",
    "# import pysumma.plotting as psp\n",
    "# import seaborn as sns\n",
    "# import matplotlib.pyplot as plt\n",
    "\n",
    "%pylab inline\n",
    "%load_ext autoreload\n",
    "%autoreload 2\n",
    "%reload_ext autoreload\n",
    "import pysumma.plotting as psp\n",
    "import seaborn as sns\n",
    "import matplotlib.pyplot as plt\n",
    "import sys\n",
    "import xarray as xr\n",
    "import pandas as pd\n",
    "import pysumma as ps\n",
    "\n",
    "# function to convert summa \n",
    "def convert_time_to_summa_string(t):\n",
    "    return (\n",
    "        f'{t.dt.year.values[()]:04}'\n",
    "        f'-{t.dt.month.values[()]:02}'\n",
    "        f'-{t.dt.day.values[()]:02}'\n",
    "        f' {t.dt.hour.values[()]:02}'\n",
    "        f':{t.dt.minute.values[()]:02}'\n",
    "    )\n",
    "\n",
    "attrs = {\n",
    "   'airpres':  {'units': 'Pa', 'long_name': 'Air pressure'},\n",
    "   'airtemp':  {'units': 'K', 'long_name': 'Air temperature'},\n",
    "   'spechum':  {'units': 'g g-1', 'long_name': 'Specific humidity'},\n",
    "   'windspd':  {'units': 'Wind speed', 'long_name': 'm s-1'},\n",
    "   'SWRadAtm': {'units': 'W m-2', 'long_name': 'Downward shortwave radiation'},\n",
    "   'LWRadAtm': {'units': 'W m-2', 'long_name': 'Downward longwave radiation'},\n",
    "   'pptrate':  {'units': 'kg m-2 s-1', 'long_name': 'Precipitation rate'}\n",
    "}\n",
    "name_lookup = {\n",
    "    'airpres':  'pressure',\n",
    "    'airtemp':  'air_K',\n",
    "    'spechum':  'spechum',\n",
    "    'windspd':  'wind_ms', #  \n",
    "    'SWRadAtm': 'SW', #  , sw_mean_wm2\n",
    "    'LWRadAtm': 'LW',\n",
    "    'pptrate':  'precip_mmhr', # precip_mm per hr 'kg m-2 s-1' mm is equivalent to kg/m^2\n",
    "}"
   ]
  },
  {
   "cell_type": "code",
   "execution_count": 109,
   "id": "a7876c03-4e78-4783-83ba-e84874cd4ef2",
   "metadata": {
    "tags": []
   },
   "outputs": [
    {
     "ename": "TypeError",
     "evalue": "[datetime.datetime(2015, 10, 1, 0, 0, tzinfo=tzoffset(None, -25200))\n datetime.datetime(2015, 10, 1, 1, 0, tzinfo=tzoffset(None, -25200))\n datetime.datetime(2015, 10, 1, 2, 0, tzinfo=tzoffset(None, -25200)) ...\n datetime.datetime(2018, 9, 29, 14, 0, tzinfo=tzoffset(None, -25200))\n datetime.datetime(2018, 9, 29, 15, 0, tzinfo=tzoffset(None, -25200))\n datetime.datetime(2018, 9, 29, 16, 0, tzinfo=tzoffset(None, -25200))]",
     "output_type": "error",
     "traceback": [
      "\u001b[0;31m---------------------------------------------------------------------------\u001b[0m",
      "\u001b[0;31mTypeError\u001b[0m                                 Traceback (most recent call last)",
      "Cell \u001b[0;32mIn [111], line 4\u001b[0m\n\u001b[1;32m      1\u001b[0m \u001b[38;5;66;03m#df = pd.read_csv('../summa_forcuplo_April_workspace_SW.csv')\u001b[39;00m\n\u001b[1;32m      2\u001b[0m df \u001b[38;5;241m=\u001b[39m pd\u001b[38;5;241m.\u001b[39mread_csv(\u001b[38;5;124m'\u001b[39m\u001b[38;5;124m/Users/ianwhidden/pysumma/pysumma/summa_met_forcing/new_040323/written_for_summa/nldas_sw_compare_DELETE.csv\u001b[39m\u001b[38;5;124m'\u001b[39m)\n\u001b[0;32m----> 4\u001b[0m df\u001b[38;5;241m.\u001b[39mindex \u001b[38;5;241m=\u001b[39m pd\u001b[38;5;241m.\u001b[39mDatetimeIndex(df[\u001b[38;5;124m'\u001b[39m\u001b[38;5;124mtime_UTC\u001b[39m\u001b[38;5;124m'\u001b[39m])\u001b[38;5;241m.\u001b[39mdt\u001b[38;5;241m.\u001b[39mtz_localize(\u001b[38;5;28;01mNone\u001b[39;00m)\n\u001b[1;32m      6\u001b[0m forcing_filename \u001b[38;5;241m=\u001b[39m \u001b[38;5;124m'\u001b[39m\u001b[38;5;124muplo_station_forcing.nc\u001b[39m\u001b[38;5;124m'\u001b[39m\n\u001b[1;32m      7\u001b[0m \u001b[38;5;66;03m# Adding 1 hour to account for SUMMA being period-ending\u001b[39;00m\n",
      "File \u001b[0;32m~/opt/anaconda3/envs/pysumma/lib/python3.9/site-packages/pandas/core/indexes/datetimes.py:360\u001b[0m, in \u001b[0;36mDatetimeIndex.__new__\u001b[0;34m(cls, data, freq, tz, normalize, closed, ambiguous, dayfirst, yearfirst, dtype, copy, name)\u001b[0m\n\u001b[1;32m    357\u001b[0m         data \u001b[38;5;241m=\u001b[39m data\u001b[38;5;241m.\u001b[39mcopy()\n\u001b[1;32m    358\u001b[0m     \u001b[38;5;28;01mreturn\u001b[39;00m \u001b[38;5;28mcls\u001b[39m\u001b[38;5;241m.\u001b[39m_simple_new(data, name\u001b[38;5;241m=\u001b[39mname)\n\u001b[0;32m--> 360\u001b[0m dtarr \u001b[38;5;241m=\u001b[39m \u001b[43mDatetimeArray\u001b[49m\u001b[38;5;241;43m.\u001b[39;49m\u001b[43m_from_sequence_not_strict\u001b[49m\u001b[43m(\u001b[49m\n\u001b[1;32m    361\u001b[0m \u001b[43m    \u001b[49m\u001b[43mdata\u001b[49m\u001b[43m,\u001b[49m\n\u001b[1;32m    362\u001b[0m \u001b[43m    \u001b[49m\u001b[43mdtype\u001b[49m\u001b[38;5;241;43m=\u001b[39;49m\u001b[43mdtype\u001b[49m\u001b[43m,\u001b[49m\n\u001b[1;32m    363\u001b[0m \u001b[43m    \u001b[49m\u001b[43mcopy\u001b[49m\u001b[38;5;241;43m=\u001b[39;49m\u001b[43mcopy\u001b[49m\u001b[43m,\u001b[49m\n\u001b[1;32m    364\u001b[0m \u001b[43m    \u001b[49m\u001b[43mtz\u001b[49m\u001b[38;5;241;43m=\u001b[39;49m\u001b[43mtz\u001b[49m\u001b[43m,\u001b[49m\n\u001b[1;32m    365\u001b[0m \u001b[43m    \u001b[49m\u001b[43mfreq\u001b[49m\u001b[38;5;241;43m=\u001b[39;49m\u001b[43mfreq\u001b[49m\u001b[43m,\u001b[49m\n\u001b[1;32m    366\u001b[0m \u001b[43m    \u001b[49m\u001b[43mdayfirst\u001b[49m\u001b[38;5;241;43m=\u001b[39;49m\u001b[43mdayfirst\u001b[49m\u001b[43m,\u001b[49m\n\u001b[1;32m    367\u001b[0m \u001b[43m    \u001b[49m\u001b[43myearfirst\u001b[49m\u001b[38;5;241;43m=\u001b[39;49m\u001b[43myearfirst\u001b[49m\u001b[43m,\u001b[49m\n\u001b[1;32m    368\u001b[0m \u001b[43m    \u001b[49m\u001b[43mambiguous\u001b[49m\u001b[38;5;241;43m=\u001b[39;49m\u001b[43mambiguous\u001b[49m\u001b[43m,\u001b[49m\n\u001b[1;32m    369\u001b[0m \u001b[43m\u001b[49m\u001b[43m)\u001b[49m\n\u001b[1;32m    371\u001b[0m subarr \u001b[38;5;241m=\u001b[39m \u001b[38;5;28mcls\u001b[39m\u001b[38;5;241m.\u001b[39m_simple_new(dtarr, name\u001b[38;5;241m=\u001b[39mname)\n\u001b[1;32m    372\u001b[0m \u001b[38;5;28;01mreturn\u001b[39;00m subarr\n",
      "File \u001b[0;32m~/opt/anaconda3/envs/pysumma/lib/python3.9/site-packages/pandas/core/arrays/datetimes.py:308\u001b[0m, in \u001b[0;36mDatetimeArray._from_sequence_not_strict\u001b[0;34m(cls, data, dtype, copy, tz, freq, dayfirst, yearfirst, ambiguous)\u001b[0m\n\u001b[1;32m    304\u001b[0m freq \u001b[38;5;241m=\u001b[39m freq \u001b[38;5;28;01mif\u001b[39;00m freq \u001b[38;5;129;01mis\u001b[39;00m \u001b[38;5;129;01mnot\u001b[39;00m lib\u001b[38;5;241m.\u001b[39mno_default \u001b[38;5;28;01melse\u001b[39;00m \u001b[38;5;28;01mNone\u001b[39;00m\n\u001b[1;32m    306\u001b[0m freq, freq_infer \u001b[38;5;241m=\u001b[39m dtl\u001b[38;5;241m.\u001b[39mmaybe_infer_freq(freq)\n\u001b[0;32m--> 308\u001b[0m subarr, tz, inferred_freq \u001b[38;5;241m=\u001b[39m \u001b[43m_sequence_to_dt64ns\u001b[49m\u001b[43m(\u001b[49m\n\u001b[1;32m    309\u001b[0m \u001b[43m    \u001b[49m\u001b[43mdata\u001b[49m\u001b[43m,\u001b[49m\n\u001b[1;32m    310\u001b[0m \u001b[43m    \u001b[49m\u001b[43mdtype\u001b[49m\u001b[38;5;241;43m=\u001b[39;49m\u001b[43mdtype\u001b[49m\u001b[43m,\u001b[49m\n\u001b[1;32m    311\u001b[0m \u001b[43m    \u001b[49m\u001b[43mcopy\u001b[49m\u001b[38;5;241;43m=\u001b[39;49m\u001b[43mcopy\u001b[49m\u001b[43m,\u001b[49m\n\u001b[1;32m    312\u001b[0m \u001b[43m    \u001b[49m\u001b[43mtz\u001b[49m\u001b[38;5;241;43m=\u001b[39;49m\u001b[43mtz\u001b[49m\u001b[43m,\u001b[49m\n\u001b[1;32m    313\u001b[0m \u001b[43m    \u001b[49m\u001b[43mdayfirst\u001b[49m\u001b[38;5;241;43m=\u001b[39;49m\u001b[43mdayfirst\u001b[49m\u001b[43m,\u001b[49m\n\u001b[1;32m    314\u001b[0m \u001b[43m    \u001b[49m\u001b[43myearfirst\u001b[49m\u001b[38;5;241;43m=\u001b[39;49m\u001b[43myearfirst\u001b[49m\u001b[43m,\u001b[49m\n\u001b[1;32m    315\u001b[0m \u001b[43m    \u001b[49m\u001b[43mambiguous\u001b[49m\u001b[38;5;241;43m=\u001b[39;49m\u001b[43mambiguous\u001b[49m\u001b[43m,\u001b[49m\n\u001b[1;32m    316\u001b[0m \u001b[43m\u001b[49m\u001b[43m)\u001b[49m\n\u001b[1;32m    318\u001b[0m freq, freq_infer \u001b[38;5;241m=\u001b[39m dtl\u001b[38;5;241m.\u001b[39mvalidate_inferred_freq(freq, inferred_freq, freq_infer)\n\u001b[1;32m    319\u001b[0m \u001b[38;5;28;01mif\u001b[39;00m explicit_none:\n",
      "File \u001b[0;32m~/opt/anaconda3/envs/pysumma/lib/python3.9/site-packages/pandas/core/arrays/datetimes.py:2055\u001b[0m, in \u001b[0;36m_sequence_to_dt64ns\u001b[0;34m(data, dtype, copy, tz, dayfirst, yearfirst, ambiguous, allow_mixed, require_iso8601)\u001b[0m\n\u001b[1;32m   2051\u001b[0m     data \u001b[38;5;241m=\u001b[39m data\u001b[38;5;241m.\u001b[39mastype(np\u001b[38;5;241m.\u001b[39mint64)\n\u001b[1;32m   2052\u001b[0m \u001b[38;5;28;01melse\u001b[39;00m:\n\u001b[1;32m   2053\u001b[0m     \u001b[38;5;66;03m# data comes back here as either i8 to denote UTC timestamps\u001b[39;00m\n\u001b[1;32m   2054\u001b[0m     \u001b[38;5;66;03m#  or M8[ns] to denote wall times\u001b[39;00m\n\u001b[0;32m-> 2055\u001b[0m     data, inferred_tz \u001b[38;5;241m=\u001b[39m \u001b[43mobjects_to_datetime64ns\u001b[49m\u001b[43m(\u001b[49m\n\u001b[1;32m   2056\u001b[0m \u001b[43m        \u001b[49m\u001b[43mdata\u001b[49m\u001b[43m,\u001b[49m\n\u001b[1;32m   2057\u001b[0m \u001b[43m        \u001b[49m\u001b[43mdayfirst\u001b[49m\u001b[38;5;241;43m=\u001b[39;49m\u001b[43mdayfirst\u001b[49m\u001b[43m,\u001b[49m\n\u001b[1;32m   2058\u001b[0m \u001b[43m        \u001b[49m\u001b[43myearfirst\u001b[49m\u001b[38;5;241;43m=\u001b[39;49m\u001b[43myearfirst\u001b[49m\u001b[43m,\u001b[49m\n\u001b[1;32m   2059\u001b[0m \u001b[43m        \u001b[49m\u001b[43mallow_object\u001b[49m\u001b[38;5;241;43m=\u001b[39;49m\u001b[38;5;28;43;01mFalse\u001b[39;49;00m\u001b[43m,\u001b[49m\n\u001b[1;32m   2060\u001b[0m \u001b[43m        \u001b[49m\u001b[43mallow_mixed\u001b[49m\u001b[38;5;241;43m=\u001b[39;49m\u001b[43mallow_mixed\u001b[49m\u001b[43m,\u001b[49m\n\u001b[1;32m   2061\u001b[0m \u001b[43m        \u001b[49m\u001b[43mrequire_iso8601\u001b[49m\u001b[38;5;241;43m=\u001b[39;49m\u001b[43mrequire_iso8601\u001b[49m\u001b[43m,\u001b[49m\n\u001b[1;32m   2062\u001b[0m \u001b[43m    \u001b[49m\u001b[43m)\u001b[49m\n\u001b[1;32m   2063\u001b[0m     \u001b[38;5;28;01mif\u001b[39;00m tz \u001b[38;5;129;01mand\u001b[39;00m inferred_tz:\n\u001b[1;32m   2064\u001b[0m         \u001b[38;5;66;03m#  two timezones: convert to intended from base UTC repr\u001b[39;00m\n\u001b[1;32m   2065\u001b[0m         \u001b[38;5;28;01mif\u001b[39;00m data\u001b[38;5;241m.\u001b[39mdtype \u001b[38;5;241m==\u001b[39m \u001b[38;5;124m\"\u001b[39m\u001b[38;5;124mi8\u001b[39m\u001b[38;5;124m\"\u001b[39m:\n\u001b[1;32m   2066\u001b[0m             \u001b[38;5;66;03m# GH#42505\u001b[39;00m\n\u001b[1;32m   2067\u001b[0m             \u001b[38;5;66;03m# by convention, these are _already_ UTC, e.g\u001b[39;00m\n",
      "File \u001b[0;32m~/opt/anaconda3/envs/pysumma/lib/python3.9/site-packages/pandas/core/arrays/datetimes.py:2209\u001b[0m, in \u001b[0;36mobjects_to_datetime64ns\u001b[0;34m(data, dayfirst, yearfirst, utc, errors, require_iso8601, allow_object, allow_mixed)\u001b[0m\n\u001b[1;32m   2207\u001b[0m     \u001b[38;5;28;01mif\u001b[39;00m allow_object:\n\u001b[1;32m   2208\u001b[0m         \u001b[38;5;28;01mreturn\u001b[39;00m result, tz_parsed\n\u001b[0;32m-> 2209\u001b[0m     \u001b[38;5;28;01mraise\u001b[39;00m \u001b[38;5;167;01mTypeError\u001b[39;00m(result)\n\u001b[1;32m   2210\u001b[0m \u001b[38;5;28;01melse\u001b[39;00m:  \u001b[38;5;66;03m# pragma: no cover\u001b[39;00m\n\u001b[1;32m   2211\u001b[0m     \u001b[38;5;66;03m# GH#23675 this TypeError should never be hit, whereas the TypeError\u001b[39;00m\n\u001b[1;32m   2212\u001b[0m     \u001b[38;5;66;03m#  in the object-dtype branch above is reachable.\u001b[39;00m\n\u001b[1;32m   2213\u001b[0m     \u001b[38;5;28;01mraise\u001b[39;00m \u001b[38;5;167;01mTypeError\u001b[39;00m(result)\n",
      "\u001b[0;31mTypeError\u001b[0m: [datetime.datetime(2015, 10, 1, 0, 0, tzinfo=tzoffset(None, -25200))\n datetime.datetime(2015, 10, 1, 1, 0, tzinfo=tzoffset(None, -25200))\n datetime.datetime(2015, 10, 1, 2, 0, tzinfo=tzoffset(None, -25200)) ...\n datetime.datetime(2018, 9, 29, 14, 0, tzinfo=tzoffset(None, -25200))\n datetime.datetime(2018, 9, 29, 15, 0, tzinfo=tzoffset(None, -25200))\n datetime.datetime(2018, 9, 29, 16, 0, tzinfo=tzoffset(None, -25200))]"
     ]
    }
   ],
   "source": [
    "#df = pd.read_csv('../summa_forcuplo_April_workspace_SW.csv')\n",
    "df = pd.read_csv('/Users/ianwhidden/pysumma/pysumma/summa_met_forcing/new_040323/written_for_summa/nldas_sw_compare_DELETE.csv')\n",
    "\n",
    "df.index = pd.DatetimeIndex(df['time_UTC'], name='time')\n",
    "\n",
    "forcing_filename = 'uplo_station_forcing.nc'\n",
    "# Adding 1 hour to account for SUMMA being period-ending\n",
    "time_idx = df.index + pd.Timedelta('1H')\n",
    "shape = (len(time_idx), 1, )\n",
    "dims = ('time', 'hru', )\n",
    "coords = {'time': time_idx}\n",
    "\n",
    "met_data = xr.Dataset(coords=coords)\n",
    "met_data.time.encoding['calendar'] = 'standard'\n",
    "met_data.time.encoding['units'] = 'hours since 2015-10-01'\n",
    "for varname, varattrs in attrs.items():\n",
    "    df_name = name_lookup[varname]\n",
    "    met_data[varname] = xr.DataArray(\n",
    "        data=df[df_name].values.reshape(-1, 1),\n",
    "        coords=coords, dims=dims, name=varname, attrs=varattrs\n",
    "    )\n",
    "\n",
    "#met_data['airtemp'] += 273.16  # Convert to Kelvin, not needed if air in K\n",
    "met_data['pptrate'] /= 3600.0  # Convert to mm/s\n",
    "met_data['data_step'] = xr.Variable([], 3600.0)\n",
    "met_data.to_netcdf(f'./forcings/{forcing_filename}')\n",
    "\n",
    "with open('./forcings/forcing_file_list.txt', 'w') as f:\n",
    "    f.write(f\"'{forcing_filename}'\\n\")"
   ]
  },
  {
   "cell_type": "code",
   "execution_count": null,
   "id": "1617f357-5381-402a-a25b-54489d0ff950",
   "metadata": {},
   "outputs": [],
   "source": [
    "lat = 44.2072180256268\n",
    "lon = -122.119450090239\n",
    "elev = 1300\n",
    "local_attrs = xr.open_dataset('../summa_setup_template/params/local_attributes.nc').load()\n",
    "local_attrs['longitude'].values[:] = lon\n",
    "local_attrs['latitude'].values[:] = lat\n",
    "local_attrs['elevation'].values[:] = elev\n",
    "local_attrs['tan_slope'] = 10.0\n",
    "local_attrs['mHeight'] = 5.0\n",
    "# 1 is evergreen needleleaf forest in the MODIFIED_IGBP_MODIS_NOAH option\n",
    "# for the `vegeParTbl` decision. This can be found in the `VEGPARM.TBL` file\n",
    "# 7 is Open Shrublands\n",
    "# 16 is Barren or Sparsely Vegetated'\n",
    "local_attrs['vegTypeIndex'].values[:] = 1\n",
    "#local_attrs.to_netcdf('./params/local_attributes.nc')\n",
    "local_attrs.to_netcdf('/Users/ianwhidden/pysumma/pysumma/April_summa_workspace/hjandrews_summa_setup/params/local_attributes.nc')\n",
    "local_attrs"
   ]
  },
  {
   "cell_type": "code",
   "execution_count": null,
   "id": "ad31797e-9f93-4502-a548-ae2d8da91865",
   "metadata": {},
   "outputs": [],
   "source": [
    "!./install_local_setup.sh\n",
    "\n",
    "summa_exe = 'summa.exe'\n",
    "file_manager = './file_manager.txt'\n",
    "# INITIATE (instantiate?) simiulation object\n",
    "s = ps.Simulation(summa_exe, file_manager)\n",
    "# Update file manager with start and end time\n",
    "s.manager['simStartTime'] = '2015-10-02 00:00'\n",
    "s.manager['simEndTime'] = '2018-09-28 15:00'\n",
    "s.manager['tmZoneInfo'] = 'utcTime'\n",
    "\n",
    "t0 = met_data['time'].isel(time=0)\n",
    "t1 = met_data['time'].isel(time=-1)\n",
    "s.manager['simStartTime'] = convert_time_to_summa_string(t0)\n",
    "s.manager['simEndTime'] = convert_time_to_summa_string(t1)"
   ]
  },
  {
   "cell_type": "code",
   "execution_count": null,
   "id": "5f84d83f-db6d-4d78-af7b-53debfb3e84d",
   "metadata": {},
   "outputs": [],
   "source": [
    "s.manager"
   ]
  },
  {
   "cell_type": "markdown",
   "id": "066c6a82-a1a6-4b18-9b66-a261592359e2",
   "metadata": {},
   "source": [
    "## Output"
   ]
  },
  {
   "cell_type": "code",
   "execution_count": null,
   "id": "0cd1e810-37e6-41db-b992-93bf86fbebaa",
   "metadata": {},
   "outputs": [],
   "source": [
    "# OUTPUT\n",
    "# Add a variable written to the output control file\n",
    "s.output_control['scalarSnowDepth'] = [1, 0, 1, 0, 0, 0, 0, 0]\n",
    "s.output_control['scalarSnowAlbedo'] = [1, 0, 1, 0, 0, 0, 0, 0]\n",
    "s.output_control['SWRadAtm'] = [1, 0, 1, 0, 0, 0, 0, 0]\n",
    "#'scalarCanopySnowUnloading' - unloading of snow from the vegetion canopy (kg m-2 s-1)"
   ]
  },
  {
   "cell_type": "markdown",
   "id": "63e26975-a639-477f-ba50-3cf8f90b5317",
   "metadata": {},
   "source": [
    "## Decisions"
   ]
  },
  {
   "cell_type": "code",
   "execution_count": null,
   "id": "5c4aff37-b253-403e-91e4-b68af2933302",
   "metadata": {},
   "outputs": [],
   "source": [
    "# DECISIONS s - Parameter values are going to be much more important than the decisions!\n",
    "# Andreadis et al. 2009 Includes a rapid interception increase between -3 and 0 C\n",
    "# from observations of increased cohesion in warm regions.\n",
    "\n",
    "# Get just the `snowIncept` option\n",
    "#print(s.decisions['snowIncept'])\n",
    "#print(s.decisions['windPrfile'])\n",
    "\n",
    "# example of how to check available options for a decision\n",
    "print(s.decisions['windPrfile'].available_options)\n",
    "\n",
    "# Change the value of a decision example\n",
    "#s.decisions['snowIncept'] = 'stickySnow'\n",
    "#print(s.decisions['snowIncept'])\n",
    "\n",
    "# Set decision options\n",
    "#s.decisions['snowIncept']= 'stickySnow'\n",
    "\n",
    "#s.decisions.set_option('tmZoneInfo', 'localTime') # Decision 3\n",
    "s.decisions.set_option('soilCatTbl', 'ROSETTA') # Decision 4\n",
    "s.decisions.set_option('vegeParTbl', 'MODIFIED_IGBP_MODIS_NOAH') # Decision 5\n",
    "s.decisions.set_option('soilStress', 'NoahType') # Decision 6\n",
    "s.decisions.set_option('stomResist', 'BallBerry') # Decision 7\n",
    "s.decisions.set_option('fDerivMeth', 'analytic') # Decision 16\n",
    "s.decisions.set_option('num_method', 'itertive') # Decision 15\n",
    "s.decisions.set_option('LAI_method', 'monTable') # Decision 17\n",
    "s.decisions.set_option('f_Richards', 'mixdform') # Decision 19\n",
    "s.decisions.set_option('groundwatr', 'bigBuckt') # Decision 20\n",
    "s.decisions.set_option('hc_profile', 'pow_prof') # Decision 21\n",
    "s.decisions.set_option('bcUpprTdyn', 'nrg_flux') # Decision 22\n",
    "s.decisions.set_option('bcLowrTdyn', 'presTemp') # Decision 23\n",
    "s.decisions.set_option('bcUpprSoiH', 'liq_flux') # Decision 24\n",
    "s.decisions.set_option('bcLowrSoiH', 'drainage') # Decision 25\n",
    "s.decisions.set_option('veg_traits', 'CM_QJRMS1988') # Decision 26\n",
    "s.decisions.set_option('rootProfil', 'powerLaw') # Decision 27\n",
    "s.decisions.set_option('canopyEmis', 'difTrans') # Decision 28\n",
    "s.decisions.set_option('snowIncept', 'stickySnow') # Decision 29\n",
    "s.decisions.set_option('windPrfile', 'logBelowCanopy') # Decision 30\n",
    "s.decisions.set_option('astability', 'louisinv') # Decision 31\n",
    "s.decisions.set_option('compaction', 'anderson') # Decision 32\n",
    "s.decisions.set_option('snowLayers', 'CLM_2010') # Decision 33\n",
    "s.decisions.set_option('thCondSnow', 'smnv2000') # Decision 34\n",
    "s.decisions.set_option('thCondSoil', 'funcSoilWet') # Decision 35\n",
    "s.decisions.set_option('canopySrad', 'BeersLaw') # Decision 36\n",
    "s.decisions.set_option('alb_method', 'varDecay') # Decision 37\n",
    "s.decisions.set_option('spatial_gw', 'localColumn') # Decision 38\n",
    "s.decisions.set_option('snowDenNew', 'hedAndPom') # Decision 39 anderson\n",
    "s.decisions.set_option('snowUnload', 'windUnload') # Decision 40\n",
    "\n",
    "# # Print all decisions options\n",
    "\n",
    "# print(s.decisions['tmZoneInfo']) # Decision 3\n",
    "# print(s.decisions['soilCatTbl']) # Decision 4\n",
    "# print(s.decisions['vegeParTbl']) # Decision 5\n",
    "# print(s.decisions['soilStress']) # Decision 6\n",
    "# print(s.decisions['stomResist']) # Decision 7\n",
    "# print(s.decisions['bbTempFunc']) # Decision 8\n",
    "# print(s.decisions['bbHumdFunc']) # Decision 9\n",
    "# print(s.decisions['bbElecFunc']) # Decision 10\n",
    "\n",
    "# print(s.decisions['LAI_method']) # Decision 16 Method to determine LAI and SAI\n",
    "# print(s.decisions['cIntercept']) # Decision 17\n",
    "# print(s.decisions['canopyEmis']) # Decision 27\n",
    "# print(s.decisions['snowIncept']) # Decision 28\n",
    "# print(s.decisions['snowLayers']) # Decision 32\n",
    "# print(s.decisions['thCondSnow']) # Decision 33\n",
    "# print(s.decisions['snowDenNew']) # Decision 39\n",
    "# print(s.decisions['snowUnload']) # Decision 40"
   ]
  },
  {
   "cell_type": "code",
   "execution_count": null,
   "id": "4fbda75c-cac6-41c2-ad49-41aae2661ffe",
   "metadata": {},
   "outputs": [],
   "source": [
    "s.decisions"
   ]
  },
  {
   "cell_type": "markdown",
   "id": "59fc353d-57d1-4f17-b0ce-4e14a4a29e17",
   "metadata": {},
   "source": [
    "## File manager"
   ]
  },
  {
   "cell_type": "markdown",
   "id": "8efbffc3-cf39-4648-869d-4d92dd87a585",
   "metadata": {},
   "source": [
    "## Parameters - 's.global_hru_params'"
   ]
  },
  {
   "cell_type": "code",
   "execution_count": null,
   "id": "f753b454-8f44-480f-8a40-1b0308d170b6",
   "metadata": {},
   "outputs": [],
   "source": [
    "# (5) Model Parameters -  LOCAL PARAMETERS (s.global_hru_params) - set parameters and view those changes AKA local_params.txt\n",
    "\n",
    "# SNOW\n",
    "# Max albedo of 0.85 comes from Andreadis et al., 2009\n",
    "s.global_hru_params['albedoSootLoad'] = 0\n",
    "print(s.global_hru_params['albedoSootLoad'])\n",
    "\n",
    "print(s.global_hru_params['albedoMax'])\n",
    "print(s.global_hru_params['albedoDecayRate'])\n",
    "print(s.global_hru_params['albedoRefresh'])\n",
    "\n",
    "\n",
    "# CANOPY\n",
    "# height of top of the vegetation canopy above ground \n",
    "#s.global_hru_params['heightCanopyTop'] = 40.0\n",
    "s.global_hru_params['heightCanopyTop'] = 0.0\n",
    "# height of bottom of the vegetation canopy above ground surface (m)\n",
    "#s.global_hru_params['heightCanopyBottom'] = 5.0\n",
    "s.global_hru_params['heightCanopyBottom'] = 0.0\n",
    "#s.global_hru_params['winterSAI'] = 10\n",
    "# s.global_hru_params['refInterceptCapSnow'] = 100 # lower number, deeper snow\n",
    "\n",
    "print(s.global_hru_params['refInterceptCapSnow']) # refInterceptCapSnow default [ 6.6 , 1.0 , 10.0 ] reference canopy interception capacity per unit leaf area (snow) (kg m-2)\n",
    "# in line above m (kg m-2) is an empirical parameter determined based on observations of maximum interception capacity\n",
    "print(s.global_hru_params['refInterceptCapRain']) # canopy interception capacity per unit leaf area (rain) (kg m-2)\n",
    "\n",
    "# print(s.global_hru_params['scalarCanopyIceMax']) # maximum interception storage capacity for ice (kg m-2) throws an error\n",
    "#print(s.global_hru_params['scalarCanopyLiqMax']) # throws an error\n",
    "\n",
    "# print(s.global_hru_params['winterSAI'])\n",
    "# print(s.global_hru_params['z0Canopy'])\n",
    "# print(s.global_hru_params['zpdFraction'])\n",
    "print(s.global_hru_params['heightCanopyTop'])\n",
    "print(s.global_hru_params['heightCanopyBottom'])\n",
    "\n",
    "# RADIATION\n",
    "print(s.global_hru_params['Frad_direct'])\n",
    "print(s.global_hru_params['Frad_vis'])\n",
    "\n",
    "# Precipitation\n",
    "#s.global_hru_params['tempCritRain'] = \n",
    "print(s.global_hru_params['tempCritRain']) # 32 F = 273.15 K\n",
    "# frozen precipitation multiplier (-)\n",
    "print(s.global_hru_params['frozenPrecipMultip'])\n",
    "print(s.global_hru_params['refInterceptCapSnow']) # m (kg m-2) is an empirical parameter determined based on observations of maximum interception capacity"
   ]
  },
  {
   "cell_type": "markdown",
   "id": "d2ff0bc0-0fd7-4e69-9940-957edb3b4ecf",
   "metadata": {},
   "source": [
    "## Run model"
   ]
  },
  {
   "cell_type": "code",
   "execution_count": null,
   "id": "ab710625-3008-45fa-a51a-c514355a457d",
   "metadata": {},
   "outputs": [],
   "source": [
    "s.run('local')\n",
    "s.status"
   ]
  },
  {
   "cell_type": "code",
   "execution_count": null,
   "id": "25e455df-3d0c-4e33-9378-91c99b94dea1",
   "metadata": {},
   "outputs": [],
   "source": [
    "%reset"
   ]
  },
  {
   "cell_type": "code",
   "execution_count": null,
   "id": "9b882301-0c58-49a9-b9f9-6a32857391f2",
   "metadata": {},
   "outputs": [],
   "source": [
    "# Write something from output to a csv\n",
    "\n",
    "dssd = s.output['scalarSnowDepth']\n",
    "df = dssd.to_dataframe()\n",
    "df = df.to_csv('/Users/ianwhidden/Desktop/thesis_data/summa_output/summa_sensitivity_analysis/summa_output_sd_swe_WY16_17_18/sd_R0.csv')\n",
    "\n",
    "dsswe = s.output['scalarSWE']\n",
    "df = dsswe.to_dataframe()\n",
    "df = df.to_csv('/Users/ianwhidden/Desktop/thesis_data/summa_output/summa_sensitivity_analysis/summa_output_sd_swe_WY16_17_18/summa_output/swe_R0.csv')"
   ]
  },
  {
   "cell_type": "code",
   "execution_count": null,
   "id": "3be485a9-3842-4300-b3b4-98a85923bba6",
   "metadata": {},
   "outputs": [],
   "source": [
    "dsswe = s.output['SWRadAtm']\n",
    "df = dsswe.to_dataframe()\n",
    "df = df.to_csv('/Users/ianwhidden/Desktop/thesis_data/summa_output/summa_sensitivity_analysis/summa_output_sd_swe_WY16_17_18/summa_output/sw.csv')"
   ]
  },
  {
   "cell_type": "code",
   "execution_count": null,
   "id": "50031568-5668-4daf-8f5e-394da0fdc125",
   "metadata": {},
   "outputs": [],
   "source": [
    "## Plotting"
   ]
  },
  {
   "cell_type": "code",
   "execution_count": null,
   "id": "210c2f73-7b76-45ce-a8c9-eefd76cb8fbb",
   "metadata": {},
   "outputs": [],
   "source": [
    "# PLOTS , current is snow albedo\n",
    "\n",
    "# mass of total water on the vegetation canopy (kg m-2)\n",
    "#s.output['scalarCanopyWat'].plot(label='SUMMA')\n",
    "\n",
    "# temperature of each layer (K)\n",
    "#s.output['mLayerTemp'].plot(label='SUMMA')\n",
    "\n",
    "#albedo of the ground surface (-)\n",
    "#s.output['scalarGroundAlbedo'].plot(label='SUMMA')\n",
    "\n",
    "\n",
    "# Albedo commonly refers to the \"whiteness\" of a surface, with 0 meaning black and 1 meaning white.\n",
    "#A value of 0 means the surface is a \"perfect absorber\" that absorbs all incoming energy.\n",
    "\n",
    "#snow albedo for the entire spectral band (-)\n",
    "#s.output['scalarSnowAlbedo'].plot(label='SUMMA')\n",
    "\n",
    "albedo = s.output['scalarSnowAlbedo']\n",
    "albedo.plot.line(x='time', color=\"purple\")\n",
    "# Change the max and min values of plot to show albedo variations\n",
    "plt.ylim([0, 1])\n",
    "# Set axis sizes\n",
    "matplotlib.rc('xtick', labelsize=10) \n",
    "matplotlib.rc('ytick', labelsize=10)\n",
    "\n",
    "#matplotlib.title('Snow Albedo')\n",
    "\n",
    "#saturation vapor pressure at the temperature of vegetation canopy (Pa)\n",
    "#s.output['scalarSatVP_CanopyTemp'].plot(label='SUMMA')\n",
    "\n",
    "#saturation vapor pressure at the temperature of the ground (Pa)\n",
    "#s.output['scalarSatVP_GroundTemp'].plot(label='SUMMA')\n",
    "\n",
    "#net radiation (W m-2)\n",
    "#Graph shows constant net radiation of zero\n",
    "#s.output['scalarNetRadiation'].plot(label='SUMMA')\n",
    "\n",
    "\n",
    "#latent heat from the ground (below canopy or non-vegetated) (W m-2)\n",
    "#s.output['scalarLatHeatGround'].plot(label='SUMMA')\n",
    "\n",
    "\n",
    "#s.output['scalarLAI'].plot(label='SUMMA')\n"
   ]
  },
  {
   "cell_type": "code",
   "execution_count": null,
   "id": "8288d397-2396-4aa5-83d1-eddb905a2a14",
   "metadata": {},
   "outputs": [],
   "source": [
    "depth = s.output['scalarSnowDepth']\n",
    "depth.plot.line(x='time',label='Snow depth')\n",
    "#plt.suptitle('Snow depth')\n",
    "#depth.title('Depth')\n",
    "#plt.plot(s.output['scalarSnowDepth'], x='time')\n",
    "#from matplotlib import pyplot as plt    \n",
    "\n",
    "#fig = plt.figure()\n",
    "#plt.plot(s.output['scalarSnowDepth'])\n",
    "#plt.suptitle('Snowpack depth', fontsize=20)\n",
    "\n",
    "#plt.xlabel('Time', fontsize=18)\n",
    "#plt.ylabel('Snowpack depth m', fontsize=16)\n",
    "#fig.savefig('test.jpg')\n",
    "\n",
    "plt.xlabel('Date', fontsize=16)\n",
    "plt.ylabel('Snow depth (m)', fontsize=16)"
   ]
  },
  {
   "cell_type": "markdown",
   "id": "2adc6cc3-e71c-4fbe-962e-26041a03b6c0",
   "metadata": {},
   "source": [
    "## Look at SW output over 1 day to determine if timestamp is correct"
   ]
  },
  {
   "cell_type": "code",
   "execution_count": null,
   "id": "d00e8f97-36d0-4461-b74d-a212e7ec3bc1",
   "metadata": {},
   "outputs": [],
   "source": [
    "time_range = slice('10-29-2016 00:00:00' , '10-30-2016 00:00:00')\n",
    "ax = s.output['SWRadAtm'].isel(hru=0).sel(time=time_range)\n",
    "#ax = s.output['SWRadAtm']\n",
    "ax.plot()\n",
    "#time_range = slice('10-29-2000', '04-30-2001')\n"
   ]
  },
  {
   "cell_type": "code",
   "execution_count": null,
   "id": "9cb51776-d036-44b9-99ef-4b061e7e439f",
   "metadata": {},
   "outputs": [],
   "source": [
    "# PLOT TEMP IN FARENHEIT - prognostic (predicted by model) - scalarSurfaceTemp is the temp of the ground surface\n",
    "temp = s.output['scalarSurfaceTemp']\n",
    "\n",
    "# Convert\n",
    "temp_f = 1.8*(temp-273) + 32\n",
    "print(temp_f)\n",
    "#s.output['scalarSurfaceTemp'].plot(label='SUMMA');\n",
    "temp_f.plot(label='temp_F')"
   ]
  },
  {
   "cell_type": "code",
   "execution_count": null,
   "id": "d90a032f-d456-4ad8-ba88-ed623f92c61b",
   "metadata": {},
   "outputs": [],
   "source": [
    "s.output['scalarSurfaceTemp'].plot(label='SUMMA');"
   ]
  },
  {
   "cell_type": "code",
   "execution_count": null,
   "id": "58c2c1c2-eead-4e51-8459-875138df6fc5",
   "metadata": {},
   "outputs": [],
   "source": [
    "# plot for SWE\n",
    "\n",
    "s.output['scalarSWE'].plot(label='SUMMA');\n",
    "#s.output['scalarSnowDepth'].plot(label='SUMMA');\n",
    "plt.legend();"
   ]
  },
  {
   "cell_type": "code",
   "execution_count": null,
   "id": "3d377308-f31f-410b-879e-978f2dc3daba",
   "metadata": {},
   "outputs": [],
   "source": [
    "# plot for something else\n",
    "\"\"\"\n",
    "s.output['scalarSurfaceTemp'].plot(label='SUMMA');\n",
    "#s.output['scalarSnowDepth'].plot(label='SUMMA');\n",
    "plt.legend();\n",
    "\"\"\"\n",
    "#s.output_control\n",
    "#s.output['scalarSnowAlbedo'].plot(color='red', linewidth=2);\n",
    "s.output"
   ]
  },
  {
   "cell_type": "code",
   "execution_count": null,
   "id": "a9fbee29-1379-4ce4-8d27-a0e01437acaf",
   "metadata": {},
   "outputs": [],
   "source": [
    "#print(s.global_hru_params) # s.output[whichever cell/data]\n",
    "\n",
    "# Total snow depth\n",
    "depth = s.output.isel(hru=0)['iLayerHeight']\n",
    "temp = s.output.isel(hru=0)['mLayerTemp']\n",
    "frac_wat = s.output.isel(hru=0)['mLayerVolFracWat']\n",
    "\n",
    "psp.layers(temp, depth, colormap='viridis', plot_soil=False, plot_snow=True);\n",
    "s.output['scalarSnowDepth'].plot(color='red', linewidth=2);\n",
    "\n",
    "# plt.xlabel('Date', fontsize=16)\n",
    "# plt.ylabel('Snow depth (m)', fontsize=16)\n",
    "# psp.savefig('testtemp.jpg')"
   ]
  },
  {
   "cell_type": "code",
   "execution_count": null,
   "id": "fc475500-eafe-42af-a117-444ac5fafa16",
   "metadata": {},
   "outputs": [],
   "source": []
  },
  {
   "cell_type": "code",
   "execution_count": null,
   "id": "a85611d5-29a0-43bb-a132-d1721c15f7a3",
   "metadata": {},
   "outputs": [],
   "source": []
  },
  {
   "cell_type": "code",
   "execution_count": null,
   "id": "9453c615-4c75-477f-a23c-bcce7f75b376",
   "metadata": {},
   "outputs": [],
   "source": []
  },
  {
   "cell_type": "code",
   "execution_count": null,
   "id": "7eef5aea-d004-4a8a-8980-e220f031e42c",
   "metadata": {},
   "outputs": [],
   "source": []
  },
  {
   "cell_type": "code",
   "execution_count": null,
   "id": "5780d883-8346-4d1c-ad82-7f0d72f3954a",
   "metadata": {},
   "outputs": [],
   "source": []
  },
  {
   "cell_type": "code",
   "execution_count": null,
   "id": "5b9fa1bd-3088-472d-9d96-c30c7a56253d",
   "metadata": {},
   "outputs": [],
   "source": []
  },
  {
   "cell_type": "code",
   "execution_count": null,
   "id": "d6ca2965-c9a0-41c6-9063-2174f70b7628",
   "metadata": {},
   "outputs": [],
   "source": []
  },
  {
   "cell_type": "code",
   "execution_count": null,
   "id": "a6cdb5c6-9fc3-48eb-9cb7-c4416bac045d",
   "metadata": {},
   "outputs": [],
   "source": []
  },
  {
   "cell_type": "code",
   "execution_count": null,
   "id": "9a8aa82d-980e-412b-b79c-2313e7339166",
   "metadata": {},
   "outputs": [],
   "source": []
  },
  {
   "cell_type": "code",
   "execution_count": null,
   "id": "ce5d7a24-7e07-4e4c-b8c7-1f96c5c08a93",
   "metadata": {},
   "outputs": [],
   "source": []
  },
  {
   "cell_type": "code",
   "execution_count": null,
   "id": "7638e7f7-a45e-4a86-b508-e0777527fdab",
   "metadata": {},
   "outputs": [],
   "source": []
  },
  {
   "cell_type": "code",
   "execution_count": null,
   "id": "db1dd597-a86a-4f14-8462-784a9f472125",
   "metadata": {},
   "outputs": [],
   "source": []
  },
  {
   "cell_type": "code",
   "execution_count": null,
   "id": "29004f5b-5226-468a-875a-f493412b683a",
   "metadata": {},
   "outputs": [],
   "source": []
  },
  {
   "cell_type": "code",
   "execution_count": null,
   "id": "d721e3c7-33c4-46e4-97c6-e998d009cf68",
   "metadata": {},
   "outputs": [],
   "source": []
  },
  {
   "cell_type": "code",
   "execution_count": null,
   "id": "b91285cf-69ca-4ccc-bc14-681a2d633d66",
   "metadata": {},
   "outputs": [],
   "source": []
  },
  {
   "cell_type": "code",
   "execution_count": null,
   "id": "55641e77-6a8e-4e7d-ab13-1970d59dd6e9",
   "metadata": {},
   "outputs": [],
   "source": []
  },
  {
   "cell_type": "code",
   "execution_count": null,
   "id": "3a139ced-ee43-4c8d-8421-7a443f4e21aa",
   "metadata": {},
   "outputs": [],
   "source": []
  },
  {
   "cell_type": "code",
   "execution_count": null,
   "id": "bca42a45-d690-4c85-bec1-8346bf9f9643",
   "metadata": {},
   "outputs": [],
   "source": []
  },
  {
   "cell_type": "code",
   "execution_count": null,
   "id": "c6731b4a-b459-41cb-9b47-777e3a8d8749",
   "metadata": {},
   "outputs": [],
   "source": []
  },
  {
   "cell_type": "code",
   "execution_count": null,
   "id": "5f20b49f-5a3e-4e11-a13c-df1361edf35c",
   "metadata": {},
   "outputs": [],
   "source": []
  },
  {
   "cell_type": "code",
   "execution_count": null,
   "id": "cdcd04d8-78ed-42cf-a10f-3d94da89617e",
   "metadata": {},
   "outputs": [],
   "source": []
  },
  {
   "cell_type": "code",
   "execution_count": null,
   "id": "c78d8a10-69ce-4bc2-9c15-ff7952b2e812",
   "metadata": {},
   "outputs": [],
   "source": []
  },
  {
   "cell_type": "code",
   "execution_count": null,
   "id": "8eb1c4b1-da43-4b24-9792-0366c658d890",
   "metadata": {},
   "outputs": [],
   "source": []
  },
  {
   "cell_type": "code",
   "execution_count": null,
   "id": "7af36e68-2f69-44f2-9c10-b044ae33a3cd",
   "metadata": {},
   "outputs": [],
   "source": []
  },
  {
   "cell_type": "code",
   "execution_count": null,
   "id": "fa6fca81-e5e8-4047-a0d1-0c97b522d721",
   "metadata": {},
   "outputs": [],
   "source": []
  },
  {
   "cell_type": "code",
   "execution_count": null,
   "id": "24bde456-c55c-465c-8f3b-3b43f4088b1d",
   "metadata": {},
   "outputs": [],
   "source": []
  },
  {
   "cell_type": "code",
   "execution_count": null,
   "id": "5a2d24ba-83e9-44b7-a0f2-6ae68b00afbd",
   "metadata": {},
   "outputs": [],
   "source": []
  },
  {
   "cell_type": "code",
   "execution_count": null,
   "id": "abe33f47-a447-4e2e-ad8d-a0b6b93d5e54",
   "metadata": {},
   "outputs": [],
   "source": []
  },
  {
   "cell_type": "code",
   "execution_count": null,
   "id": "54ed5318-495b-4fad-832c-139cf39dab2c",
   "metadata": {},
   "outputs": [],
   "source": []
  },
  {
   "cell_type": "code",
   "execution_count": null,
   "id": "42d9238e-b2cb-46d7-bedd-014bd9f060b5",
   "metadata": {},
   "outputs": [],
   "source": []
  },
  {
   "cell_type": "code",
   "execution_count": null,
   "id": "2c6f0c27-e7c2-40c5-8d57-55499cd607e1",
   "metadata": {},
   "outputs": [],
   "source": []
  },
  {
   "cell_type": "code",
   "execution_count": null,
   "id": "0ee763ab-3e20-47aa-a723-f7829c4eb1d7",
   "metadata": {},
   "outputs": [],
   "source": []
  },
  {
   "cell_type": "code",
   "execution_count": null,
   "id": "e69c41c4-204e-4ffc-a7ac-529e50ad138c",
   "metadata": {},
   "outputs": [],
   "source": []
  },
  {
   "cell_type": "code",
   "execution_count": null,
   "id": "599f22a6-718f-4950-b5ae-a32d2702e70b",
   "metadata": {},
   "outputs": [],
   "source": []
  },
  {
   "cell_type": "code",
   "execution_count": null,
   "id": "022fa678-4f45-423b-984b-3e6c151efa6b",
   "metadata": {},
   "outputs": [],
   "source": []
  },
  {
   "cell_type": "code",
   "execution_count": null,
   "id": "1190d482-58c8-4def-98f8-c6112be02920",
   "metadata": {},
   "outputs": [],
   "source": []
  },
  {
   "cell_type": "code",
   "execution_count": null,
   "id": "0a03a0f6-6421-40af-b9fa-fd80b1ea8565",
   "metadata": {},
   "outputs": [],
   "source": []
  },
  {
   "cell_type": "code",
   "execution_count": null,
   "id": "7af3d5e9-d5ff-4991-aeb4-ef2fa373301b",
   "metadata": {},
   "outputs": [],
   "source": []
  }
 ],
 "metadata": {
  "kernelspec": {
   "display_name": "new-env",
   "language": "python",
   "name": "new-env"
  },
  "language_info": {
   "codemirror_mode": {
    "name": "ipython",
    "version": 3
   },
   "file_extension": ".py",
   "mimetype": "text/x-python",
   "name": "python",
   "nbconvert_exporter": "python",
   "pygments_lexer": "ipython3",
   "version": "3.9.13"
  }
 },
 "nbformat": 4,
 "nbformat_minor": 5
}
